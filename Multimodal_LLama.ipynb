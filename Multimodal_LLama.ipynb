{
  "cells": [
    {
      "cell_type": "code",
      "execution_count": 24,
      "metadata": {
        "id": "Jn6xx48IJf7D"
      },
      "outputs": [],
      "source": [
        "from qdrant_client import QdrantClient, models\n",
        "\n",
        "client = QdrantClient(url=\"http://localhost:6333/\")"
      ]
    },
    {
      "cell_type": "code",
      "execution_count": null,
      "metadata": {},
      "outputs": [],
      "source": [
        "# Install additional packages that might be required\n",
        "!pip install --upgrade sentence-transformers\n",
        "!pip install --upgrade transformers\n",
        "!pip install pillow\n",
        "!pip install torch torchvision torchaudio\n",
        "\n",
        "# For Mac with MPS support\n",
        "!ip install torch torchvision torchaudio --index-url https://download.pytorch.org/whl/cpu"
      ]
    },
    {
      "cell_type": "code",
      "execution_count": null,
      "metadata": {
        "id": "7ZZYV2aqKD5b"
      },
      "outputs": [],
      "source": [
        "from transformers import CLIPProcessor, CLIPModel\n",
        "import torch\n",
        "from PIL import Image\n",
        "import numpy as np\n",
        "\n",
        "# Load CLIP model\n",
        "model = CLIPModel.from_pretrained(\"openai/clip-vit-base-patch32\")\n",
        "processor = CLIPProcessor.from_pretrained(\"openai/clip-vit-base-patch32\")\n",
        "\n",
        "# Set device\n",
        "device = \"mps\" if torch.backends.mps.is_available() else \"cpu\"\n",
        "model.to(device)\n",
        "\n",
        "documents = [\n",
        "    {\"caption\": \"An image about plane emergency safety.\", \"image\": \"images/image-1.png\"},\n",
        "    {\"caption\": \"An image about airplane components.\", \"image\": \"images/image-2.png\"},\n",
        "    {\"caption\": \"An image about COVID safety restrictions.\", \"image\": \"images/image-3.png\"},\n",
        "    {\"caption\": \"An confidential image about UFO sightings.\", \"image\": \"images/image-4.png\"},\n",
        "    {\"caption\": \"An image about unusual footprints on Aralar 2011.\", \"image\": \"images/image-5.png\"},\n",
        "]\n",
        "\n",
        "# Get text embeddings\n",
        "texts = [doc[\"caption\"] for doc in documents]\n",
        "text_inputs = processor(text=texts, return_tensors=\"pt\", padding=True, truncation=True)\n",
        "text_inputs = {k: v.to(device) for k, v in text_inputs.items()}\n",
        "\n",
        "with torch.no_grad():\n",
        "    text_embeddings = model.get_text_features(**text_inputs)\n",
        "    text_embeddings = text_embeddings / text_embeddings.norm(dim=-1, keepdim=True)\n",
        "\n",
        "# Get image embeddings\n",
        "try:\n",
        "    images = [Image.open(doc[\"image\"]).convert('RGB') for doc in documents]\n",
        "    image_inputs = processor(images=images, return_tensors=\"pt\")\n",
        "    image_inputs = {k: v.to(device) for k, v in image_inputs.items()}\n",
        "    \n",
        "    with torch.no_grad():\n",
        "        image_embeddings = model.get_image_features(**image_inputs)\n",
        "        image_embeddings = image_embeddings / image_embeddings.norm(dim=-1, keepdim=True)\n",
        "    \n",
        "    print(f\"Text embeddings: {text_embeddings.shape}\")\n",
        "    print(f\"Image embeddings: {image_embeddings.shape}\")\n",
        "    \n",
        "    # Convert to numpy\n",
        "    text_embeddings = text_embeddings.cpu().numpy()\n",
        "    image_embeddings = image_embeddings.cpu().numpy()\n",
        "    \n",
        "except FileNotFoundError as e:\n",
        "    print(f\"Make sure your image files exist: {e}\")\n",
        "\n",
        "    \n"
      ]
    },
    {
      "cell_type": "markdown",
      "metadata": {
        "id": "yEn3HWTiYl_u"
      },
      "source": [
        "Create a **Collection**"
      ]
    },
    {
      "cell_type": "code",
      "execution_count": null,
      "metadata": {
        "id": "98oNUlicaiXK"
      },
      "outputs": [],
      "source": [
        "COLLECTION_NAME = \"llama-multi\"\n",
        "\n",
        "if not client.collection_exists(COLLECTION_NAME):\n",
        "    client.create_collection(\n",
        "        collection_name=COLLECTION_NAME,\n",
        "        vectors_config={\n",
        "            \"image\": models.VectorParams(size=len(image_embeddings[0]), distance=models.Distance.COSINE),\n",
        "            \"text\": models.VectorParams(size=len(text_embeddings[0]), distance=models.Distance.COSINE),\n",
        "        }\n",
        "    )"
      ]
    },
    {
      "cell_type": "markdown",
      "metadata": {
        "id": "4vwr7UbRFV5M"
      },
      "source": [
        "Now let's upload our images with captions to the **Collection**. Each image with its caption will create a [Point](https://qdrant.tech/documentation/concepts/points/) in Qdrant."
      ]
    },
    {
      "cell_type": "code",
      "execution_count": 42,
      "metadata": {
        "id": "mpqu-qzbP8Eh"
      },
      "outputs": [],
      "source": [
        "client.upload_points(\n",
        "    collection_name=COLLECTION_NAME,\n",
        "    points=[\n",
        "        models.PointStruct(\n",
        "            id=idx,\n",
        "            vector={\n",
        "                \"text\": text_embeddings[idx],\n",
        "                \"image\": image_embeddings[idx],\n",
        "            },\n",
        "            payload=doc\n",
        "        )\n",
        "        for idx, doc in enumerate(documents)\n",
        "    ]\n",
        ")"
      ]
    },
    {
      "cell_type": "markdown",
      "metadata": {
        "id": "pAkj-XFVGm9N"
      },
      "source": [
        "Let'see what image we will get to the query \"*Adventures on snow hills*\""
      ]
    },
    {
      "cell_type": "code",
      "execution_count": null,
      "metadata": {
        "id": "DY2PvcZVnZwN"
      },
      "outputs": [],
      "source": [
        "from PIL import Image\n",
        "\n",
        "# Fix: usa il metodo corretto per ottenere l'embedding del testo\n",
        "query_text = \"Adventures on snow hills\"\n",
        "text_inputs = processor(text=[query_text], return_tensors=\"pt\", padding=True, truncation=True)\n",
        "text_inputs = {k: v.to(device) for k, v in text_inputs.items()}\n",
        "\n",
        "with torch.no_grad():\n",
        "    find_image = model.get_text_features(**text_inputs)\n",
        "    find_image = find_image / find_image.norm(dim=-1, keepdim=True)\n",
        "    find_image = find_image.cpu().numpy()[0]  # Prendi il primo (e unico) embedding\n",
        "\n",
        "# Ora usa find_image nella query\n",
        "Image.open(client.query_points(\n",
        "    collection_name=COLLECTION_NAME,\n",
        "    query=find_image,\n",
        "    using=\"image\",\n",
        "    with_payload=[\"image\"],\n",
        "    limit=1\n",
        ").points[0].payload['image'])"
      ]
    },
    {
      "cell_type": "markdown",
      "metadata": {
        "id": "qcPvaUbID8QF"
      },
      "source": [
        "Let's also run the same query in Italian and compare the results."
      ]
    },
    {
      "cell_type": "code",
      "execution_count": null,
      "metadata": {
        "id": "FaphMEVsD8QF"
      },
      "outputs": [],
      "source": [
        "query_text = \"Avventure sulle colline innevate\"\n",
        "text_inputs = processor(text=[query_text], return_tensors=\"pt\", padding=True, truncation=True)\n",
        "text_inputs = {k: v.to(device) for k, v in text_inputs.items()}\n",
        "\n",
        "with torch.no_grad():\n",
        "    query_embedding = model.get_text_features(**text_inputs)\n",
        "    query_embedding = query_embedding / query_embedding.norm(dim=-1, keepdim=True)\n",
        "    query_embedding = query_embedding.cpu().numpy()[0]\n",
        "\n",
        "Image.open(client.query_points(\n",
        "    collection_name=COLLECTION_NAME,\n",
        "    query=query_embedding,\n",
        "    using=\"image\",\n",
        "    with_payload=[\"image\"],\n",
        "    limit=1\n",
        ").points[0].payload['image'])"
      ]
    },
    {
      "cell_type": "markdown",
      "metadata": {
        "id": "IihSWFsnHfwx"
      },
      "source": [
        "Now let's do a reverse search for the follwing image:"
      ]
    },
    {
      "cell_type": "code",
      "execution_count": null,
      "metadata": {
        "id": "2ScFbT38I2rO"
      },
      "outputs": [],
      "source": [
        "Image.open('images/image-2.png')"
      ]
    },
    {
      "cell_type": "code",
      "execution_count": null,
      "metadata": {
        "id": "HLmPdjktJic7"
      },
      "outputs": [],
      "source": [
        "# Fix: processa prima l'immagine\n",
        "from PIL import Image\n",
        "\n",
        "image = Image.open(\"images/image-2.png\").convert('RGB')\n",
        "image_inputs = processor(images=[image], return_tensors=\"pt\")\n",
        "image_inputs = {k: v.to(device) for k, v in image_inputs.items()}\n",
        "\n",
        "with torch.no_grad():\n",
        "    query_embedding = model.get_image_features(**image_inputs)\n",
        "    query_embedding = query_embedding / query_embedding.norm(dim=-1, keepdim=True)\n",
        "    query_embedding = query_embedding.cpu().numpy()[0]\n",
        "\n",
        "client.query_points(\n",
        "    collection_name=COLLECTION_NAME,\n",
        "    query=query_embedding,\n",
        "    using=\"text\",\n",
        "    with_payload=[\"caption\"],\n",
        "    limit=1\n",
        ").points[0].payload['caption']"
      ]
    }
  ],
  "metadata": {
    "colab": {
      "provenance": []
    },
    "kernelspec": {
      "display_name": "Python 3",
      "name": "python3"
    },
    "language_info": {
      "codemirror_mode": {
        "name": "ipython",
        "version": 3
      },
      "file_extension": ".py",
      "mimetype": "text/x-python",
      "name": "python",
      "nbconvert_exporter": "python",
      "pygments_lexer": "ipython3",
      "version": "3.12.3"
    }
  },
  "nbformat": 4,
  "nbformat_minor": 0
}
